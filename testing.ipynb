{
 "cells": [
  {
   "cell_type": "markdown",
   "metadata": {},
   "source": [
    "# Testing out minimal numpy implementations of ML algorithms"
   ]
  },
  {
   "cell_type": "code",
   "execution_count": 1,
   "metadata": {},
   "outputs": [],
   "source": [
    "import numpy as np\n",
    "import pandas as pd\n",
    "\n",
    "import sklearn.datasets as skd\n",
    "from sklearn.model_selection import train_test_split\n",
    "from sklearn.metrics import mean_squared_error\n",
    "\n",
    "import matplotlib.pyplot as plt\n",
    "\n",
    "np.set_printoptions(precision=4)\n",
    "pd.options.display.float_format = '{:6,.2f}'.format"
   ]
  },
  {
   "cell_type": "code",
   "execution_count": 2,
   "metadata": {},
   "outputs": [],
   "source": [
    "import numpy_ml as nml"
   ]
  },
  {
   "cell_type": "markdown",
   "metadata": {},
   "source": [
    "## regression"
   ]
  },
  {
   "cell_type": "markdown",
   "metadata": {},
   "source": [
    "### well posed"
   ]
  },
  {
   "cell_type": "code",
   "execution_count": 7,
   "metadata": {},
   "outputs": [
    {
     "data": {
      "text/html": [
       "<div>\n",
       "<style scoped>\n",
       "    .dataframe tbody tr th:only-of-type {\n",
       "        vertical-align: middle;\n",
       "    }\n",
       "\n",
       "    .dataframe tbody tr th {\n",
       "        vertical-align: top;\n",
       "    }\n",
       "\n",
       "    .dataframe thead th {\n",
       "        text-align: right;\n",
       "    }\n",
       "</style>\n",
       "<table border=\"1\" class=\"dataframe\">\n",
       "  <thead>\n",
       "    <tr style=\"text-align: right;\">\n",
       "      <th></th>\n",
       "      <th>True</th>\n",
       "      <th>nlm</th>\n",
       "      <th>np_lstsq</th>\n",
       "      <th>bayes</th>\n",
       "      <th>ridge</th>\n",
       "    </tr>\n",
       "  </thead>\n",
       "  <tbody>\n",
       "    <tr>\n",
       "      <th>0</th>\n",
       "      <td>18.72</td>\n",
       "      <td>18.72</td>\n",
       "      <td>18.72</td>\n",
       "      <td>18.71</td>\n",
       "      <td>18.71</td>\n",
       "    </tr>\n",
       "    <tr>\n",
       "      <th>1</th>\n",
       "      <td>89.91</td>\n",
       "      <td>89.91</td>\n",
       "      <td>89.91</td>\n",
       "      <td>89.81</td>\n",
       "      <td>89.81</td>\n",
       "    </tr>\n",
       "    <tr>\n",
       "      <th>2</th>\n",
       "      <td>3.98</td>\n",
       "      <td>3.98</td>\n",
       "      <td>3.98</td>\n",
       "      <td>3.98</td>\n",
       "      <td>3.98</td>\n",
       "    </tr>\n",
       "    <tr>\n",
       "      <th>3</th>\n",
       "      <td>0.00</td>\n",
       "      <td>0.00</td>\n",
       "      <td>-0.00</td>\n",
       "      <td>-0.00</td>\n",
       "      <td>-0.00</td>\n",
       "    </tr>\n",
       "    <tr>\n",
       "      <th>4</th>\n",
       "      <td>0.00</td>\n",
       "      <td>-0.00</td>\n",
       "      <td>-0.00</td>\n",
       "      <td>0.00</td>\n",
       "      <td>0.00</td>\n",
       "    </tr>\n",
       "    <tr>\n",
       "      <th>5</th>\n",
       "      <td>0.00</td>\n",
       "      <td>0.00</td>\n",
       "      <td>0.00</td>\n",
       "      <td>0.00</td>\n",
       "      <td>0.00</td>\n",
       "    </tr>\n",
       "    <tr>\n",
       "      <th>6</th>\n",
       "      <td>0.00</td>\n",
       "      <td>0.00</td>\n",
       "      <td>0.00</td>\n",
       "      <td>-0.00</td>\n",
       "      <td>-0.00</td>\n",
       "    </tr>\n",
       "    <tr>\n",
       "      <th>7</th>\n",
       "      <td>17.70</td>\n",
       "      <td>17.70</td>\n",
       "      <td>17.70</td>\n",
       "      <td>17.68</td>\n",
       "      <td>17.68</td>\n",
       "    </tr>\n",
       "    <tr>\n",
       "      <th>8</th>\n",
       "      <td>0.00</td>\n",
       "      <td>0.00</td>\n",
       "      <td>0.00</td>\n",
       "      <td>-0.01</td>\n",
       "      <td>-0.01</td>\n",
       "    </tr>\n",
       "    <tr>\n",
       "      <th>9</th>\n",
       "      <td>72.07</td>\n",
       "      <td>72.07</td>\n",
       "      <td>72.07</td>\n",
       "      <td>71.99</td>\n",
       "      <td>71.99</td>\n",
       "    </tr>\n",
       "  </tbody>\n",
       "</table>\n",
       "</div>"
      ],
      "text/plain": [
       "    True    nlm  np_lstsq  bayes  ridge\n",
       "0  18.72  18.72     18.72  18.71  18.71\n",
       "1  89.91  89.91     89.91  89.81  89.81\n",
       "2   3.98   3.98      3.98   3.98   3.98\n",
       "3   0.00   0.00     -0.00  -0.00  -0.00\n",
       "4   0.00  -0.00     -0.00   0.00   0.00\n",
       "5   0.00   0.00      0.00   0.00   0.00\n",
       "6   0.00   0.00      0.00  -0.00  -0.00\n",
       "7  17.70  17.70     17.70  17.68  17.68\n",
       "8   0.00   0.00      0.00  -0.01  -0.01\n",
       "9  72.07  72.07     72.07  71.99  71.99"
      ]
     },
     "execution_count": 7,
     "metadata": {},
     "output_type": "execute_result"
    }
   ],
   "source": [
    "X, y, b = skd.make_regression(n_samples=1000, n_features=10,n_informative=5, coef=True)\n",
    "pd.DataFrame(\n",
    "np.c_[b,\n",
    "      nml.linear_models.LinearRegression(fit_intercept=False).fit(X, y).beta.flatten(),\n",
    "      np.linalg.lstsq(X, y, rcond=None)[0],\n",
    "      nml.linear_models.BayesianLinearRegressionUnknownVariance(fit_intercept=False).fit(X, y).posterior['b | sigma**2'].mean,\n",
    "      nml.linear_models.RidgeRegression(alpha=1.0, fit_intercept=False).fit(X, y).beta,\n",
    "    ],\n",
    "    columns=['True', 'nlm', 'np_lstsq', 'bayes', 'ridge']\n",
    ")"
   ]
  },
  {
   "cell_type": "markdown",
   "metadata": {},
   "source": [
    "different ols solutions are identical.  ridge and bayes produce the same answer."
   ]
  },
  {
   "cell_type": "markdown",
   "metadata": {},
   "source": [
    "### ill posed"
   ]
  },
  {
   "cell_type": "code",
   "execution_count": 4,
   "metadata": {},
   "outputs": [
    {
     "data": {
      "text/plain": [
       "(616.7496712030379, 139.11304600660412, 139.08121952806906)"
      ]
     },
     "execution_count": 4,
     "metadata": {},
     "output_type": "execute_result"
    }
   ],
   "source": [
    "X, y, b = skd.make_regression(n_samples=100, n_features=2000,n_informative=100, coef=True)\n",
    "min_norm_sol = pd.DataFrame(\n",
    "np.c_[b,\n",
    "      nml.linear_models.LinearRegression(fit_intercept=False).fit(X, y).beta.T.flatten(),\n",
    "      np.linalg.lstsq(X, y, rcond=None)[0]\n",
    "    ], columns = ['true_coef', 'np1', 'np2']\n",
    ")\n",
    "\n",
    "np.linalg.norm(min_norm_sol.true_coef), np.linalg.norm(min_norm_sol.np1), np.linalg.norm(min_norm_sol.np2)"
   ]
  },
  {
   "cell_type": "markdown",
   "metadata": {},
   "source": [
    "Minimum norm interpolant estimated via pseudoinverse."
   ]
  },
  {
   "cell_type": "markdown",
   "metadata": {},
   "source": [
    "### nonlinear\n",
    "\n",
    "```\n",
    "y(X) = arctan((X[:, 1] * X[:, 2] - 1 / (X[:, 1] * X[:, 3])) / X[:, 0]) + noise * N(0, 1).\n",
    "```"
   ]
  },
  {
   "cell_type": "code",
   "execution_count": 8,
   "metadata": {},
   "outputs": [],
   "source": [
    "X, y = skd.make_friedman3(n_samples=1000, noise=0.1)\n",
    "X_train, X_test, y_train, y_test = train_test_split(X, y, test_size=0.2)"
   ]
  },
  {
   "cell_type": "code",
   "execution_count": 9,
   "metadata": {},
   "outputs": [],
   "source": [
    "def estimate_mse(estimator):\n",
    "    estimator.fit(X_train, y_train)\n",
    "    y_pred = estimator.predict(X_test)\n",
    "    return mean_squared_error(y_test, y_pred)"
   ]
  },
  {
   "cell_type": "code",
   "execution_count": 9,
   "metadata": {},
   "outputs": [
    {
     "data": {
      "text/plain": [
       "{'LinearRegression': 0.12265230895675583,\n",
       " 'RidgeRegression': 0.12281528055071242,\n",
       " 'KernelRegression': 0.19501779804529262,\n",
       " 'RandomForest': 0.020847490024374363,\n",
       " 'GradientBoosting': 0.0830203419901581}"
      ]
     },
     "execution_count": 9,
     "metadata": {},
     "output_type": "execute_result"
    }
   ],
   "source": [
    "{\n",
    "    'LinearRegression': estimate_mse(nml.linear_models.LinearRegression(fit_intercept=False)),\n",
    "    'RidgeRegression': estimate_mse(nml.linear_models.RidgeRegression(alpha=1.0, fit_intercept=False)),\n",
    "    'KernelRegression': estimate_mse(nml.nonparametric.KernelRegression(kernel='rbf')),\n",
    "    'RandomForest': estimate_mse(nml.trees.RandomForest(100, 4, 4,\n",
    "                                                        classifier=False, criterion='mse',\n",
    "                                                        )),\n",
    "    'GradientBoosting': estimate_mse(nml.trees.GradientBoostedDecisionTree(classifier=False,\n",
    "                                                                           n_iter=100, loss='mse',\n",
    "                                                                        )),\n",
    "}"
   ]
  }
 ],
 "metadata": {
  "kernelspec": {
   "display_name": ".venv",
   "language": "python",
   "name": "python3"
  },
  "language_info": {
   "codemirror_mode": {
    "name": "ipython",
    "version": 3
   },
   "file_extension": ".py",
   "mimetype": "text/x-python",
   "name": "python",
   "nbconvert_exporter": "python",
   "pygments_lexer": "ipython3",
   "version": "3.10.14"
  }
 },
 "nbformat": 4,
 "nbformat_minor": 2
}
